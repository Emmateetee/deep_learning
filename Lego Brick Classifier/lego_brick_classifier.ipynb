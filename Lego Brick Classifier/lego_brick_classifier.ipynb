{
 "cells": [
  {
   "cell_type": "markdown",
   "id": "2f5ad6e1",
   "metadata": {},
   "source": [
    "## LEGO BRICKS CLASSIFIER"
   ]
  },
  {
   "cell_type": "code",
   "execution_count": 27,
   "id": "b7128c71",
   "metadata": {
    "id": "b7128c71"
   },
   "outputs": [],
   "source": [
    "# Import the required libraries\n",
    "import numpy as np\n",
    "import pandas as pd\n",
    "import matplotlib.pyplot as plt\n",
    "import seaborn as sns\n",
    "import tensorflow as tf\n",
    "from keras.preprocessing.image import ImageDataGenerator\n",
    "from keras.models import Sequential\n",
    "from keras.layers import Conv2D, MaxPooling2D\n",
    "from keras.layers import Activation, Dropout, Flatten, Dense\n",
    "from keras.preprocessing import image\n",
    "import shutil, os\n",
    "from os import listdir\n",
    "!pip install split-folders\n",
    "import splitfolders\n",
    "%matplotlib inline"
   ]
  },
  {
   "cell_type": "code",
   "execution_count": 2,
   "id": "PKnAjYvH0OHg",
   "metadata": {
    "colab": {
     "base_uri": "https://localhost:8080/"
    },
    "id": "PKnAjYvH0OHg",
    "outputId": "6318ff70-e577-461f-ff02-eedbbc091079"
   },
   "outputs": [
    {
     "name": "stdout",
     "output_type": "stream",
     "text": [
      "Mounted at /content/drive\n"
     ]
    }
   ],
   "source": [
    "# Mount Google Drive on Google Colab\n",
    "from google.colab import drive\n",
    "drive.mount('/content/drive')"
   ]
  },
  {
   "cell_type": "code",
   "execution_count": 3,
   "id": "643a9158",
   "metadata": {
    "id": "643a9158"
   },
   "outputs": [],
   "source": [
    "# Read in the datasets using Pandas package\n",
    "train = pd.read_csv(\"/content/drive/MyDrive/Dataset/Train.csv\")\n",
    "test = pd.read_csv(\"/content/drive/MyDrive/Dataset/Test.csv\")\n",
    "sample = pd.read_csv(\"/content/drive/MyDrive/Dataset/sample_submission.csv\")"
   ]
  },
  {
   "cell_type": "code",
   "execution_count": 4,
   "id": "10b4e1da",
   "metadata": {
    "colab": {
     "base_uri": "https://localhost:8080/",
     "height": 206
    },
    "id": "10b4e1da",
    "outputId": "df648792-63e9-4f8b-b4aa-32f24f11dfde"
   },
   "outputs": [
    {
     "data": {
      "text/html": [
       "\n",
       "  <div id=\"df-fae963fc-fb77-4d9e-b8b1-13b400d96110\">\n",
       "    <div class=\"colab-df-container\">\n",
       "      <div>\n",
       "<style scoped>\n",
       "    .dataframe tbody tr th:only-of-type {\n",
       "        vertical-align: middle;\n",
       "    }\n",
       "\n",
       "    .dataframe tbody tr th {\n",
       "        vertical-align: top;\n",
       "    }\n",
       "\n",
       "    .dataframe thead th {\n",
       "        text-align: right;\n",
       "    }\n",
       "</style>\n",
       "<table border=\"1\" class=\"dataframe\">\n",
       "  <thead>\n",
       "    <tr style=\"text-align: right;\">\n",
       "      <th></th>\n",
       "      <th>name</th>\n",
       "      <th>category</th>\n",
       "    </tr>\n",
       "  </thead>\n",
       "  <tbody>\n",
       "    <tr>\n",
       "      <th>0</th>\n",
       "      <td>1.png</td>\n",
       "      <td>9</td>\n",
       "    </tr>\n",
       "    <tr>\n",
       "      <th>1</th>\n",
       "      <td>2.png</td>\n",
       "      <td>3</td>\n",
       "    </tr>\n",
       "    <tr>\n",
       "      <th>2</th>\n",
       "      <td>3.png</td>\n",
       "      <td>9</td>\n",
       "    </tr>\n",
       "    <tr>\n",
       "      <th>3</th>\n",
       "      <td>4.png</td>\n",
       "      <td>8</td>\n",
       "    </tr>\n",
       "    <tr>\n",
       "      <th>4</th>\n",
       "      <td>5.png</td>\n",
       "      <td>13</td>\n",
       "    </tr>\n",
       "  </tbody>\n",
       "</table>\n",
       "</div>\n",
       "      <button class=\"colab-df-convert\" onclick=\"convertToInteractive('df-fae963fc-fb77-4d9e-b8b1-13b400d96110')\"\n",
       "              title=\"Convert this dataframe to an interactive table.\"\n",
       "              style=\"display:none;\">\n",
       "        \n",
       "  <svg xmlns=\"http://www.w3.org/2000/svg\" height=\"24px\"viewBox=\"0 0 24 24\"\n",
       "       width=\"24px\">\n",
       "    <path d=\"M0 0h24v24H0V0z\" fill=\"none\"/>\n",
       "    <path d=\"M18.56 5.44l.94 2.06.94-2.06 2.06-.94-2.06-.94-.94-2.06-.94 2.06-2.06.94zm-11 1L8.5 8.5l.94-2.06 2.06-.94-2.06-.94L8.5 2.5l-.94 2.06-2.06.94zm10 10l.94 2.06.94-2.06 2.06-.94-2.06-.94-.94-2.06-.94 2.06-2.06.94z\"/><path d=\"M17.41 7.96l-1.37-1.37c-.4-.4-.92-.59-1.43-.59-.52 0-1.04.2-1.43.59L10.3 9.45l-7.72 7.72c-.78.78-.78 2.05 0 2.83L4 21.41c.39.39.9.59 1.41.59.51 0 1.02-.2 1.41-.59l7.78-7.78 2.81-2.81c.8-.78.8-2.07 0-2.86zM5.41 20L4 18.59l7.72-7.72 1.47 1.35L5.41 20z\"/>\n",
       "  </svg>\n",
       "      </button>\n",
       "      \n",
       "  <style>\n",
       "    .colab-df-container {\n",
       "      display:flex;\n",
       "      flex-wrap:wrap;\n",
       "      gap: 12px;\n",
       "    }\n",
       "\n",
       "    .colab-df-convert {\n",
       "      background-color: #E8F0FE;\n",
       "      border: none;\n",
       "      border-radius: 50%;\n",
       "      cursor: pointer;\n",
       "      display: none;\n",
       "      fill: #1967D2;\n",
       "      height: 32px;\n",
       "      padding: 0 0 0 0;\n",
       "      width: 32px;\n",
       "    }\n",
       "\n",
       "    .colab-df-convert:hover {\n",
       "      background-color: #E2EBFA;\n",
       "      box-shadow: 0px 1px 2px rgba(60, 64, 67, 0.3), 0px 1px 3px 1px rgba(60, 64, 67, 0.15);\n",
       "      fill: #174EA6;\n",
       "    }\n",
       "\n",
       "    [theme=dark] .colab-df-convert {\n",
       "      background-color: #3B4455;\n",
       "      fill: #D2E3FC;\n",
       "    }\n",
       "\n",
       "    [theme=dark] .colab-df-convert:hover {\n",
       "      background-color: #434B5C;\n",
       "      box-shadow: 0px 1px 3px 1px rgba(0, 0, 0, 0.15);\n",
       "      filter: drop-shadow(0px 1px 2px rgba(0, 0, 0, 0.3));\n",
       "      fill: #FFFFFF;\n",
       "    }\n",
       "  </style>\n",
       "\n",
       "      <script>\n",
       "        const buttonEl =\n",
       "          document.querySelector('#df-fae963fc-fb77-4d9e-b8b1-13b400d96110 button.colab-df-convert');\n",
       "        buttonEl.style.display =\n",
       "          google.colab.kernel.accessAllowed ? 'block' : 'none';\n",
       "\n",
       "        async function convertToInteractive(key) {\n",
       "          const element = document.querySelector('#df-fae963fc-fb77-4d9e-b8b1-13b400d96110');\n",
       "          const dataTable =\n",
       "            await google.colab.kernel.invokeFunction('convertToInteractive',\n",
       "                                                     [key], {});\n",
       "          if (!dataTable) return;\n",
       "\n",
       "          const docLinkHtml = 'Like what you see? Visit the ' +\n",
       "            '<a target=\"_blank\" href=https://colab.research.google.com/notebooks/data_table.ipynb>data table notebook</a>'\n",
       "            + ' to learn more about interactive tables.';\n",
       "          element.innerHTML = '';\n",
       "          dataTable['output_type'] = 'display_data';\n",
       "          await google.colab.output.renderOutput(dataTable, element);\n",
       "          const docLink = document.createElement('div');\n",
       "          docLink.innerHTML = docLinkHtml;\n",
       "          element.appendChild(docLink);\n",
       "        }\n",
       "      </script>\n",
       "    </div>\n",
       "  </div>\n",
       "  "
      ],
      "text/plain": [
       "    name  category\n",
       "0  1.png         9\n",
       "1  2.png         3\n",
       "2  3.png         9\n",
       "3  4.png         8\n",
       "4  5.png        13"
      ]
     },
     "execution_count": 4,
     "metadata": {},
     "output_type": "execute_result"
    }
   ],
   "source": [
    "# Display the first 5 rows in the training set\n",
    "train.head()"
   ]
  },
  {
   "cell_type": "code",
   "execution_count": 5,
   "id": "34a4661d",
   "metadata": {
    "colab": {
     "base_uri": "https://localhost:8080/",
     "height": 206
    },
    "id": "34a4661d",
    "outputId": "6a112676-ebff-4514-d2c1-eb44b102f8f5"
   },
   "outputs": [
    {
     "data": {
      "text/html": [
       "\n",
       "  <div id=\"df-836b3ac5-3aed-475d-a7de-d4279bc72b88\">\n",
       "    <div class=\"colab-df-container\">\n",
       "      <div>\n",
       "<style scoped>\n",
       "    .dataframe tbody tr th:only-of-type {\n",
       "        vertical-align: middle;\n",
       "    }\n",
       "\n",
       "    .dataframe tbody tr th {\n",
       "        vertical-align: top;\n",
       "    }\n",
       "\n",
       "    .dataframe thead th {\n",
       "        text-align: right;\n",
       "    }\n",
       "</style>\n",
       "<table border=\"1\" class=\"dataframe\">\n",
       "  <thead>\n",
       "    <tr style=\"text-align: right;\">\n",
       "      <th></th>\n",
       "      <th>name</th>\n",
       "    </tr>\n",
       "  </thead>\n",
       "  <tbody>\n",
       "    <tr>\n",
       "      <th>0</th>\n",
       "      <td>4466.png</td>\n",
       "    </tr>\n",
       "    <tr>\n",
       "      <th>1</th>\n",
       "      <td>4467.png</td>\n",
       "    </tr>\n",
       "    <tr>\n",
       "      <th>2</th>\n",
       "      <td>4468.png</td>\n",
       "    </tr>\n",
       "    <tr>\n",
       "      <th>3</th>\n",
       "      <td>4469.png</td>\n",
       "    </tr>\n",
       "    <tr>\n",
       "      <th>4</th>\n",
       "      <td>4470.png</td>\n",
       "    </tr>\n",
       "  </tbody>\n",
       "</table>\n",
       "</div>\n",
       "      <button class=\"colab-df-convert\" onclick=\"convertToInteractive('df-836b3ac5-3aed-475d-a7de-d4279bc72b88')\"\n",
       "              title=\"Convert this dataframe to an interactive table.\"\n",
       "              style=\"display:none;\">\n",
       "        \n",
       "  <svg xmlns=\"http://www.w3.org/2000/svg\" height=\"24px\"viewBox=\"0 0 24 24\"\n",
       "       width=\"24px\">\n",
       "    <path d=\"M0 0h24v24H0V0z\" fill=\"none\"/>\n",
       "    <path d=\"M18.56 5.44l.94 2.06.94-2.06 2.06-.94-2.06-.94-.94-2.06-.94 2.06-2.06.94zm-11 1L8.5 8.5l.94-2.06 2.06-.94-2.06-.94L8.5 2.5l-.94 2.06-2.06.94zm10 10l.94 2.06.94-2.06 2.06-.94-2.06-.94-.94-2.06-.94 2.06-2.06.94z\"/><path d=\"M17.41 7.96l-1.37-1.37c-.4-.4-.92-.59-1.43-.59-.52 0-1.04.2-1.43.59L10.3 9.45l-7.72 7.72c-.78.78-.78 2.05 0 2.83L4 21.41c.39.39.9.59 1.41.59.51 0 1.02-.2 1.41-.59l7.78-7.78 2.81-2.81c.8-.78.8-2.07 0-2.86zM5.41 20L4 18.59l7.72-7.72 1.47 1.35L5.41 20z\"/>\n",
       "  </svg>\n",
       "      </button>\n",
       "      \n",
       "  <style>\n",
       "    .colab-df-container {\n",
       "      display:flex;\n",
       "      flex-wrap:wrap;\n",
       "      gap: 12px;\n",
       "    }\n",
       "\n",
       "    .colab-df-convert {\n",
       "      background-color: #E8F0FE;\n",
       "      border: none;\n",
       "      border-radius: 50%;\n",
       "      cursor: pointer;\n",
       "      display: none;\n",
       "      fill: #1967D2;\n",
       "      height: 32px;\n",
       "      padding: 0 0 0 0;\n",
       "      width: 32px;\n",
       "    }\n",
       "\n",
       "    .colab-df-convert:hover {\n",
       "      background-color: #E2EBFA;\n",
       "      box-shadow: 0px 1px 2px rgba(60, 64, 67, 0.3), 0px 1px 3px 1px rgba(60, 64, 67, 0.15);\n",
       "      fill: #174EA6;\n",
       "    }\n",
       "\n",
       "    [theme=dark] .colab-df-convert {\n",
       "      background-color: #3B4455;\n",
       "      fill: #D2E3FC;\n",
       "    }\n",
       "\n",
       "    [theme=dark] .colab-df-convert:hover {\n",
       "      background-color: #434B5C;\n",
       "      box-shadow: 0px 1px 3px 1px rgba(0, 0, 0, 0.15);\n",
       "      filter: drop-shadow(0px 1px 2px rgba(0, 0, 0, 0.3));\n",
       "      fill: #FFFFFF;\n",
       "    }\n",
       "  </style>\n",
       "\n",
       "      <script>\n",
       "        const buttonEl =\n",
       "          document.querySelector('#df-836b3ac5-3aed-475d-a7de-d4279bc72b88 button.colab-df-convert');\n",
       "        buttonEl.style.display =\n",
       "          google.colab.kernel.accessAllowed ? 'block' : 'none';\n",
       "\n",
       "        async function convertToInteractive(key) {\n",
       "          const element = document.querySelector('#df-836b3ac5-3aed-475d-a7de-d4279bc72b88');\n",
       "          const dataTable =\n",
       "            await google.colab.kernel.invokeFunction('convertToInteractive',\n",
       "                                                     [key], {});\n",
       "          if (!dataTable) return;\n",
       "\n",
       "          const docLinkHtml = 'Like what you see? Visit the ' +\n",
       "            '<a target=\"_blank\" href=https://colab.research.google.com/notebooks/data_table.ipynb>data table notebook</a>'\n",
       "            + ' to learn more about interactive tables.';\n",
       "          element.innerHTML = '';\n",
       "          dataTable['output_type'] = 'display_data';\n",
       "          await google.colab.output.renderOutput(dataTable, element);\n",
       "          const docLink = document.createElement('div');\n",
       "          docLink.innerHTML = docLinkHtml;\n",
       "          element.appendChild(docLink);\n",
       "        }\n",
       "      </script>\n",
       "    </div>\n",
       "  </div>\n",
       "  "
      ],
      "text/plain": [
       "       name\n",
       "0  4466.png\n",
       "1  4467.png\n",
       "2  4468.png\n",
       "3  4469.png\n",
       "4  4470.png"
      ]
     },
     "execution_count": 5,
     "metadata": {},
     "output_type": "execute_result"
    }
   ],
   "source": [
    "# Display the first 5 rows in the test set\n",
    "test.head()"
   ]
  },
  {
   "cell_type": "code",
   "execution_count": 6,
   "id": "b7620b62",
   "metadata": {
    "colab": {
     "base_uri": "https://localhost:8080/",
     "height": 175
    },
    "id": "b7620b62",
    "outputId": "68d16e16-2928-4a3a-e995-f86eb5a6f185",
    "scrolled": true
   },
   "outputs": [
    {
     "data": {
      "text/html": [
       "\n",
       "  <div id=\"df-b9e76adc-736b-44dc-8d27-223a300cb15b\">\n",
       "    <div class=\"colab-df-container\">\n",
       "      <div>\n",
       "<style scoped>\n",
       "    .dataframe tbody tr th:only-of-type {\n",
       "        vertical-align: middle;\n",
       "    }\n",
       "\n",
       "    .dataframe tbody tr th {\n",
       "        vertical-align: top;\n",
       "    }\n",
       "\n",
       "    .dataframe thead th {\n",
       "        text-align: right;\n",
       "    }\n",
       "</style>\n",
       "<table border=\"1\" class=\"dataframe\">\n",
       "  <thead>\n",
       "    <tr style=\"text-align: right;\">\n",
       "      <th></th>\n",
       "      <th>name</th>\n",
       "      <th>category</th>\n",
       "    </tr>\n",
       "  </thead>\n",
       "  <tbody>\n",
       "    <tr>\n",
       "      <th>0</th>\n",
       "      <td>4466.png</td>\n",
       "      <td>1</td>\n",
       "    </tr>\n",
       "    <tr>\n",
       "      <th>1</th>\n",
       "      <td>4467.png</td>\n",
       "      <td>15</td>\n",
       "    </tr>\n",
       "    <tr>\n",
       "      <th>2</th>\n",
       "      <td>4468.png</td>\n",
       "      <td>4</td>\n",
       "    </tr>\n",
       "    <tr>\n",
       "      <th>3</th>\n",
       "      <td>4469.png</td>\n",
       "      <td>8</td>\n",
       "    </tr>\n",
       "  </tbody>\n",
       "</table>\n",
       "</div>\n",
       "      <button class=\"colab-df-convert\" onclick=\"convertToInteractive('df-b9e76adc-736b-44dc-8d27-223a300cb15b')\"\n",
       "              title=\"Convert this dataframe to an interactive table.\"\n",
       "              style=\"display:none;\">\n",
       "        \n",
       "  <svg xmlns=\"http://www.w3.org/2000/svg\" height=\"24px\"viewBox=\"0 0 24 24\"\n",
       "       width=\"24px\">\n",
       "    <path d=\"M0 0h24v24H0V0z\" fill=\"none\"/>\n",
       "    <path d=\"M18.56 5.44l.94 2.06.94-2.06 2.06-.94-2.06-.94-.94-2.06-.94 2.06-2.06.94zm-11 1L8.5 8.5l.94-2.06 2.06-.94-2.06-.94L8.5 2.5l-.94 2.06-2.06.94zm10 10l.94 2.06.94-2.06 2.06-.94-2.06-.94-.94-2.06-.94 2.06-2.06.94z\"/><path d=\"M17.41 7.96l-1.37-1.37c-.4-.4-.92-.59-1.43-.59-.52 0-1.04.2-1.43.59L10.3 9.45l-7.72 7.72c-.78.78-.78 2.05 0 2.83L4 21.41c.39.39.9.59 1.41.59.51 0 1.02-.2 1.41-.59l7.78-7.78 2.81-2.81c.8-.78.8-2.07 0-2.86zM5.41 20L4 18.59l7.72-7.72 1.47 1.35L5.41 20z\"/>\n",
       "  </svg>\n",
       "      </button>\n",
       "      \n",
       "  <style>\n",
       "    .colab-df-container {\n",
       "      display:flex;\n",
       "      flex-wrap:wrap;\n",
       "      gap: 12px;\n",
       "    }\n",
       "\n",
       "    .colab-df-convert {\n",
       "      background-color: #E8F0FE;\n",
       "      border: none;\n",
       "      border-radius: 50%;\n",
       "      cursor: pointer;\n",
       "      display: none;\n",
       "      fill: #1967D2;\n",
       "      height: 32px;\n",
       "      padding: 0 0 0 0;\n",
       "      width: 32px;\n",
       "    }\n",
       "\n",
       "    .colab-df-convert:hover {\n",
       "      background-color: #E2EBFA;\n",
       "      box-shadow: 0px 1px 2px rgba(60, 64, 67, 0.3), 0px 1px 3px 1px rgba(60, 64, 67, 0.15);\n",
       "      fill: #174EA6;\n",
       "    }\n",
       "\n",
       "    [theme=dark] .colab-df-convert {\n",
       "      background-color: #3B4455;\n",
       "      fill: #D2E3FC;\n",
       "    }\n",
       "\n",
       "    [theme=dark] .colab-df-convert:hover {\n",
       "      background-color: #434B5C;\n",
       "      box-shadow: 0px 1px 3px 1px rgba(0, 0, 0, 0.15);\n",
       "      filter: drop-shadow(0px 1px 2px rgba(0, 0, 0, 0.3));\n",
       "      fill: #FFFFFF;\n",
       "    }\n",
       "  </style>\n",
       "\n",
       "      <script>\n",
       "        const buttonEl =\n",
       "          document.querySelector('#df-b9e76adc-736b-44dc-8d27-223a300cb15b button.colab-df-convert');\n",
       "        buttonEl.style.display =\n",
       "          google.colab.kernel.accessAllowed ? 'block' : 'none';\n",
       "\n",
       "        async function convertToInteractive(key) {\n",
       "          const element = document.querySelector('#df-b9e76adc-736b-44dc-8d27-223a300cb15b');\n",
       "          const dataTable =\n",
       "            await google.colab.kernel.invokeFunction('convertToInteractive',\n",
       "                                                     [key], {});\n",
       "          if (!dataTable) return;\n",
       "\n",
       "          const docLinkHtml = 'Like what you see? Visit the ' +\n",
       "            '<a target=\"_blank\" href=https://colab.research.google.com/notebooks/data_table.ipynb>data table notebook</a>'\n",
       "            + ' to learn more about interactive tables.';\n",
       "          element.innerHTML = '';\n",
       "          dataTable['output_type'] = 'display_data';\n",
       "          await google.colab.output.renderOutput(dataTable, element);\n",
       "          const docLink = document.createElement('div');\n",
       "          docLink.innerHTML = docLinkHtml;\n",
       "          element.appendChild(docLink);\n",
       "        }\n",
       "      </script>\n",
       "    </div>\n",
       "  </div>\n",
       "  "
      ],
      "text/plain": [
       "       name  category\n",
       "0  4466.png         1\n",
       "1  4467.png        15\n",
       "2  4468.png         4\n",
       "3  4469.png         8"
      ]
     },
     "execution_count": 6,
     "metadata": {},
     "output_type": "execute_result"
    }
   ],
   "source": [
    "# Display the first 5 rows in the sample submission file\n",
    "sample.head()"
   ]
  },
  {
   "cell_type": "code",
   "execution_count": 7,
   "id": "i5o59vcX1vJ9",
   "metadata": {
    "colab": {
     "base_uri": "https://localhost:8080/"
    },
    "id": "i5o59vcX1vJ9",
    "outputId": "861dde5d-d87f-4432-c025-199097aa23b8"
   },
   "outputs": [
    {
     "name": "stdout",
     "output_type": "stream",
     "text": [
      "/content/drive/MyDrive/Dataset\n"
     ]
    }
   ],
   "source": [
    "# Make the data folder your working directory\n",
    "cd \"/content/drive/MyDrive/Dataset\""
   ]
  },
  {
   "cell_type": "code",
   "execution_count": null,
   "id": "3KMbwikKi3bv",
   "metadata": {
    "id": "3KMbwikKi3bv"
   },
   "outputs": [],
   "source": [
    "# Create a new directory to enhance organization of the training and validation data\n",
    "labels = train.sort_values('category')\n",
    "\n",
    "class_names = list(labels.category.unique())\n",
    "\n",
    "for i in class_names:\n",
    "    os.makedirs(os.path.join('new_data', str(i)))"
   ]
  },
  {
   "cell_type": "code",
   "execution_count": 9,
   "id": "ntAY6IO0i3hy",
   "metadata": {
    "id": "ntAY6IO0i3hy"
   },
   "outputs": [],
   "source": [
    "# Iterate through the label list\n",
    "for c in class_names:\n",
    "    for i in list(labels[labels['category']==c]['name']):\n",
    "\n",
    "        #create path to the image \n",
    "        get_image = os.path.join('train', str(i))\n",
    "\n",
    "        #If image does not exist already in the new folder, create one        \n",
    "        if not os.path.exists('new_data/'+str(c)+ str(i)):\n",
    "\n",
    "          # move the image\n",
    "          move_image_to_cat = shutil.move(get_image,'new_data/'+str(c))"
   ]
  },
  {
   "cell_type": "code",
   "execution_count": 10,
   "id": "4_bJRAH-jHrA",
   "metadata": {
    "id": "4_bJRAH-jHrA"
   },
   "outputs": [],
   "source": [
    "# Organize the training and validation data by making a 80:20 split\n",
    "input_folder = '/content/drive/MyDrive/Dataset/new_data/'\n",
    "output = '/content/drive/MyDrive/Dataset/data/'\n",
    "\n",
    "splitfolders.ratio(input_folder, output=output, seed=42, ratio=(.8, .2))"
   ]
  },
  {
   "cell_type": "code",
   "execution_count": 11,
   "id": "1WdHEycCQgsA",
   "metadata": {
    "id": "1WdHEycCQgsA"
   },
   "outputs": [],
   "source": [
    "# Initialize image dimensions\n",
    "img_width, img_height = 150, 150\n",
    "\n",
    "# Create variables for the file paths\n",
    "train_data_dir = '/content/drive/MyDrive/Dataset/data/train'\n",
    "validation_data_dir = '/content/drive/MyDrive/Dataset/data/val'\n",
    "test_data_dir = '/content/drive/MyDrive/Dataset/test'"
   ]
  },
  {
   "cell_type": "code",
   "execution_count": 12,
   "id": "epuXcQANQgu9",
   "metadata": {
    "id": "epuXcQANQgu9"
   },
   "outputs": [],
   "source": [
    "# Set some parameters\n",
    "batch_size = 16\n",
    "nb_train_samples = 3572\n",
    "nb_validation_samples = 893\n",
    "epochs = 20\n",
    "input_shape = (img_width, img_height, 3)"
   ]
  },
  {
   "cell_type": "code",
   "execution_count": 13,
   "id": "VvOSIjL5Qgya",
   "metadata": {
    "id": "VvOSIjL5Qgya"
   },
   "outputs": [],
   "source": [
    "# Augmentation configuration and rescaling for train set\n",
    "train_datagen = ImageDataGenerator(rescale=1. / 255, shear_range=0.2, zoom_range=0.2, horizontal_flip=True)\n",
    "# Rescaling for validation set\n",
    "val_datagen = ImageDataGenerator(rescale=1. / 255)\n",
    "# Rescaling for test set\n",
    "test_datagen = ImageDataGenerator(rescale=1. / 255)"
   ]
  },
  {
   "cell_type": "code",
   "execution_count": 14,
   "id": "5geva1g4Qg27",
   "metadata": {
    "colab": {
     "base_uri": "https://localhost:8080/"
    },
    "id": "5geva1g4Qg27",
    "outputId": "6a90e0d5-9546-40a7-fcdd-28f67a826822"
   },
   "outputs": [
    {
     "name": "stdout",
     "output_type": "stream",
     "text": [
      "Found 3564 images belonging to 16 classes.\n",
      "Found 901 images belonging to 16 classes.\n",
      "Found 0 images belonging to 0 classes.\n"
     ]
    }
   ],
   "source": [
    "# Generate a data generator from image files in a directory using the flow_from_directory() method in ImageDataGenerator class\n",
    "\n",
    "train_generator = train_datagen.flow_from_directory(train_data_dir, target_size=(img_width, img_height), batch_size=batch_size,\n",
    "                                                    class_mode='categorical')\n",
    "\n",
    "validation_generator = val_datagen.flow_from_directory(validation_data_dir, target_size=(img_width, img_height),\n",
    "                                                        batch_size=batch_size, class_mode='categorical')\n",
    "\n",
    "test_generator = test_datagen.flow_from_directory(test_data_dir, target_size=(img_width, img_height), shuffle = False,\n",
    "                                                        batch_size=batch_size)"
   ]
  },
  {
   "cell_type": "markdown",
   "id": "52dcbf33",
   "metadata": {},
   "source": [
    "There are no classes yet in the test folder since that's what we want to predict."
   ]
  },
  {
   "cell_type": "code",
   "execution_count": 15,
   "id": "rv8OSUaqQhFD",
   "metadata": {
    "id": "rv8OSUaqQhFD"
   },
   "outputs": [],
   "source": [
    "# Build an image classifier model, a sequential CNN architecture with relu as hidden neurons activation function and\n",
    "# softmax as output neuron activation function.\n",
    "\n",
    "model = Sequential()\n",
    "model.add(Conv2D(32, (3, 3), input_shape=input_shape))\n",
    "model.add(Activation('relu'))\n",
    "model.add(MaxPooling2D(pool_size=(2, 2)))\n",
    "\n",
    "model.add(Conv2D(32, (3, 3)))\n",
    "model.add(Activation('relu'))\n",
    "model.add(MaxPooling2D(pool_size=(2, 2)))\n",
    "\n",
    "model.add(Conv2D(64, (3, 3)))\n",
    "model.add(Activation('relu'))\n",
    "model.add(MaxPooling2D(pool_size=(2, 2)))\n",
    "\n",
    "model.add(Flatten())\n",
    "model.add(Dense(64))\n",
    "model.add(Activation('relu'))\n",
    "model.add(Dropout(0.5))\n",
    "model.add(Dense(16))\n",
    "model.add(Activation('softmax'))"
   ]
  },
  {
   "cell_type": "code",
   "execution_count": 16,
   "id": "47J_dTLNUXg1",
   "metadata": {
    "id": "47J_dTLNUXg1"
   },
   "outputs": [],
   "source": [
    "# Compile the model\n",
    "model.compile(loss=tf.keras.losses.CategoricalCrossentropy(), optimizer= tf.keras.optimizers.Adam(learning_rate=1e-3),\n",
    "              metrics=[tf.keras.metrics.FalseNegatives()])"
   ]
  },
  {
   "cell_type": "code",
   "execution_count": 17,
   "id": "INQGttrwUXkH",
   "metadata": {
    "colab": {
     "base_uri": "https://localhost:8080/"
    },
    "id": "INQGttrwUXkH",
    "outputId": "d6252396-8e4d-4b32-83cd-1aaa40e3858a"
   },
   "outputs": [
    {
     "name": "stdout",
     "output_type": "stream",
     "text": [
      "Epoch 1/20\n",
      "223/223 [==============================] - 804s 4s/step - loss: 2.1977 - false_negatives: 3303.0000 - val_loss: 1.3135 - val_false_negatives: 635.0000\n",
      "Epoch 2/20\n",
      "223/223 [==============================] - 30s 134ms/step - loss: 1.7451 - false_negatives: 2933.0000 - val_loss: 0.9874 - val_false_negatives: 518.0000\n",
      "Epoch 3/20\n",
      "223/223 [==============================] - 30s 136ms/step - loss: 1.5922 - false_negatives: 2765.0000 - val_loss: 0.9456 - val_false_negatives: 501.0000\n",
      "Epoch 4/20\n",
      "223/223 [==============================] - 29s 129ms/step - loss: 1.4907 - false_negatives: 2623.0000 - val_loss: 0.8408 - val_false_negatives: 443.0000\n",
      "Epoch 5/20\n",
      "223/223 [==============================] - 31s 139ms/step - loss: 1.3631 - false_negatives: 2482.0000 - val_loss: 0.7579 - val_false_negatives: 393.0000\n",
      "Epoch 6/20\n",
      "223/223 [==============================] - 30s 136ms/step - loss: 1.3369 - false_negatives: 2417.0000 - val_loss: 0.6323 - val_false_negatives: 320.0000\n",
      "Epoch 7/20\n",
      "223/223 [==============================] - 30s 134ms/step - loss: 1.2625 - false_negatives: 2312.0000 - val_loss: 0.6354 - val_false_negatives: 342.0000\n",
      "Epoch 8/20\n",
      "223/223 [==============================] - 29s 131ms/step - loss: 1.1885 - false_negatives: 2196.0000 - val_loss: 0.5741 - val_false_negatives: 299.0000\n",
      "Epoch 9/20\n",
      "223/223 [==============================] - 31s 138ms/step - loss: 1.1417 - false_negatives: 2084.0000 - val_loss: 0.6032 - val_false_negatives: 331.0000\n",
      "Epoch 10/20\n",
      "223/223 [==============================] - 29s 132ms/step - loss: 1.1145 - false_negatives: 2071.0000 - val_loss: 0.5288 - val_false_negatives: 280.0000\n",
      "Epoch 11/20\n",
      "223/223 [==============================] - 31s 137ms/step - loss: 1.0409 - false_negatives: 1933.0000 - val_loss: 0.4992 - val_false_negatives: 254.0000\n",
      "Epoch 12/20\n",
      "223/223 [==============================] - 29s 132ms/step - loss: 0.9780 - false_negatives: 1793.0000 - val_loss: 0.4576 - val_false_negatives: 247.0000\n",
      "Epoch 13/20\n",
      "223/223 [==============================] - 30s 137ms/step - loss: 0.9417 - false_negatives: 1766.0000 - val_loss: 0.3979 - val_false_negatives: 204.0000\n",
      "Epoch 14/20\n",
      "223/223 [==============================] - 29s 131ms/step - loss: 0.9001 - false_negatives: 1692.0000 - val_loss: 0.3914 - val_false_negatives: 203.0000\n",
      "Epoch 15/20\n",
      "223/223 [==============================] - 31s 138ms/step - loss: 0.8649 - false_negatives: 1599.0000 - val_loss: 0.3903 - val_false_negatives: 203.0000\n",
      "Epoch 16/20\n",
      "223/223 [==============================] - 29s 132ms/step - loss: 0.8171 - false_negatives: 1529.0000 - val_loss: 0.3314 - val_false_negatives: 171.0000\n",
      "Epoch 17/20\n",
      "223/223 [==============================] - 31s 138ms/step - loss: 0.7686 - false_negatives: 1423.0000 - val_loss: 0.3159 - val_false_negatives: 163.0000\n",
      "Epoch 18/20\n",
      "223/223 [==============================] - 30s 134ms/step - loss: 0.7601 - false_negatives: 1394.0000 - val_loss: 0.3276 - val_false_negatives: 160.0000\n",
      "Epoch 19/20\n",
      "223/223 [==============================] - 31s 137ms/step - loss: 0.7221 - false_negatives: 1355.0000 - val_loss: 0.3322 - val_false_negatives: 171.0000\n",
      "Epoch 20/20\n",
      "223/223 [==============================] - 29s 132ms/step - loss: 0.6825 - false_negatives: 1258.0000 - val_loss: 0.2675 - val_false_negatives: 132.0000\n"
     ]
    }
   ],
   "source": [
    "# Model Training\n",
    "\n",
    "result = model.fit(train_generator, steps_per_epoch=nb_train_samples // batch_size, epochs=epochs, validation_data=validation_generator,\n",
    "                   validation_steps=nb_validation_samples // batch_size)"
   ]
  },
  {
   "cell_type": "code",
   "execution_count": 23,
   "id": "sLVKQPjsp8yn",
   "metadata": {
    "colab": {
     "base_uri": "https://localhost:8080/",
     "height": 499
    },
    "id": "sLVKQPjsp8yn",
    "outputId": "60665d13-c420-44b9-bc12-c35a8f515e2d"
   },
   "outputs": [
    {
     "data": {
      "image/png": "[encoded data removed]",
      "text/plain": [
       "<Figure size 576x576 with 2 Axes>"
      ]
     },
     "metadata": {
      "needs_background": "light"
     },
     "output_type": "display_data"
    }
   ],
   "source": [
    "# Generate the plots of the losses and the false negatives\n",
    "loss = result.history['loss']\n",
    "val_loss = result.history['val_loss']\n",
    "fn = result.history['false_negatives']\n",
    "val_fn = result.history['val_false_negatives']\n",
    "\n",
    "epochs_range = range(epochs)\n",
    "\n",
    "plt.figure(figsize=(8, 8))\n",
    "plt.subplot(1, 2, 1)\n",
    "plt.plot(epochs_range, fn, label='Training False Negatives')\n",
    "plt.plot(epochs_range, val_fn, label='Validation False Negatives')\n",
    "plt.legend(loc='lower right')\n",
    "plt.title('Training and Validation False Negatives')\n",
    "\n",
    "plt.subplot(1, 2, 2)\n",
    "plt.plot(epochs_range, loss, label='Training Loss')\n",
    "plt.plot(epochs_range, val_loss, label='Validation Loss')\n",
    "plt.legend(loc='upper right')\n",
    "plt.title('Training and Validation Loss')\n",
    "plt.show()"
   ]
  },
  {
   "cell_type": "code",
   "execution_count": 24,
   "id": "Bke-xQZzp84p",
   "metadata": {
    "id": "Bke-xQZzp84p"
   },
   "outputs": [],
   "source": [
    "# Save the model\n",
    "model.save('model.h5')"
   ]
  },
  {
   "cell_type": "code",
   "execution_count": 29,
   "id": "8vLL4-M5vpx7",
   "metadata": {
    "colab": {
     "base_uri": "https://localhost:8080/"
    },
    "id": "8vLL4-M5vpx7",
    "outputId": "71fb1e65-01e4-4abd-efb1-715cbc81d84c"
   },
   "outputs": [
    {
     "data": {
      "text/plain": [
       "(None, 150, 150, 3)"
      ]
     },
     "execution_count": 29,
     "metadata": {},
     "output_type": "execute_result"
    }
   ],
   "source": [
    "# Load the exported model\n",
    "loaded_model = tf.keras.models.load_model('model.h5')\n",
    "loaded_model.layers[0].input_shape"
   ]
  },
  {
   "cell_type": "code",
   "execution_count": 28,
   "id": "bekUaQVCtHY5",
   "metadata": {
    "id": "bekUaQVCtHY5"
   },
   "outputs": [],
   "source": [
    "# Read in the test files\n",
    "batch_holder = np.zeros((1914, 150, 150, 3))\n",
    "img_dir='/content/drive/MyDrive/Dataset/test'\n",
    "for i,img in enumerate(os.listdir(img_dir)):\n",
    "  img = image.load_img(os.path.join(img_dir,img), target_size=(img_width, img_height))\n",
    "  batch_holder[i, :] = img\n"
   ]
  },
  {
   "cell_type": "code",
   "execution_count": 34,
   "id": "m_aLq5_jUXnX",
   "metadata": {
    "id": "m_aLq5_jUXnX"
   },
   "outputs": [],
   "source": [
    "# Predict the label of the test_images\n",
    "result=loaded_model.predict(batch_holder)\n",
    "pred = np.argmax(result,axis=1)"
   ]
  },
  {
   "cell_type": "code",
   "execution_count": 38,
   "id": "4ine7xOnwodu",
   "metadata": {
    "id": "4ine7xOnwodu"
   },
   "outputs": [],
   "source": [
    "# Create a new dataframe and parse the names of pictures in the test file\n",
    "submit = test[['name']]"
   ]
  },
  {
   "cell_type": "code",
   "execution_count": 40,
   "id": "OZe9Qk_JxI3m",
   "metadata": {
    "id": "OZe9Qk_JxI3m"
   },
   "outputs": [],
   "source": [
    "# Parse the prediction to Category column in the new submit dataframe\n",
    "submit['category'] = pred"
   ]
  },
  {
   "cell_type": "code",
   "execution_count": 41,
   "id": "5GLV7qAcxFW_",
   "metadata": {
    "colab": {
     "base_uri": "https://localhost:8080/",
     "height": 206
    },
    "id": "5GLV7qAcxFW_",
    "outputId": "5118665b-f85e-482c-98ca-b9fc0a471a50"
   },
   "outputs": [
    {
     "data": {
      "text/html": [
       "\n",
       "  <div id=\"df-26b23e65-0234-4d04-979b-74fec905fb55\">\n",
       "    <div class=\"colab-df-container\">\n",
       "      <div>\n",
       "<style scoped>\n",
       "    .dataframe tbody tr th:only-of-type {\n",
       "        vertical-align: middle;\n",
       "    }\n",
       "\n",
       "    .dataframe tbody tr th {\n",
       "        vertical-align: top;\n",
       "    }\n",
       "\n",
       "    .dataframe thead th {\n",
       "        text-align: right;\n",
       "    }\n",
       "</style>\n",
       "<table border=\"1\" class=\"dataframe\">\n",
       "  <thead>\n",
       "    <tr style=\"text-align: right;\">\n",
       "      <th></th>\n",
       "      <th>name</th>\n",
       "      <th>category</th>\n",
       "    </tr>\n",
       "  </thead>\n",
       "  <tbody>\n",
       "    <tr>\n",
       "      <th>0</th>\n",
       "      <td>4466.png</td>\n",
       "      <td>3</td>\n",
       "    </tr>\n",
       "    <tr>\n",
       "      <th>1</th>\n",
       "      <td>4467.png</td>\n",
       "      <td>4</td>\n",
       "    </tr>\n",
       "    <tr>\n",
       "      <th>2</th>\n",
       "      <td>4468.png</td>\n",
       "      <td>8</td>\n",
       "    </tr>\n",
       "    <tr>\n",
       "      <th>3</th>\n",
       "      <td>4469.png</td>\n",
       "      <td>13</td>\n",
       "    </tr>\n",
       "    <tr>\n",
       "      <th>4</th>\n",
       "      <td>4470.png</td>\n",
       "      <td>0</td>\n",
       "    </tr>\n",
       "  </tbody>\n",
       "</table>\n",
       "</div>\n",
       "      <button class=\"colab-df-convert\" onclick=\"convertToInteractive('df-26b23e65-0234-4d04-979b-74fec905fb55')\"\n",
       "              title=\"Convert this dataframe to an interactive table.\"\n",
       "              style=\"display:none;\">\n",
       "        \n",
       "  <svg xmlns=\"http://www.w3.org/2000/svg\" height=\"24px\"viewBox=\"0 0 24 24\"\n",
       "       width=\"24px\">\n",
       "    <path d=\"M0 0h24v24H0V0z\" fill=\"none\"/>\n",
       "    <path d=\"M18.56 5.44l.94 2.06.94-2.06 2.06-.94-2.06-.94-.94-2.06-.94 2.06-2.06.94zm-11 1L8.5 8.5l.94-2.06 2.06-.94-2.06-.94L8.5 2.5l-.94 2.06-2.06.94zm10 10l.94 2.06.94-2.06 2.06-.94-2.06-.94-.94-2.06-.94 2.06-2.06.94z\"/><path d=\"M17.41 7.96l-1.37-1.37c-.4-.4-.92-.59-1.43-.59-.52 0-1.04.2-1.43.59L10.3 9.45l-7.72 7.72c-.78.78-.78 2.05 0 2.83L4 21.41c.39.39.9.59 1.41.59.51 0 1.02-.2 1.41-.59l7.78-7.78 2.81-2.81c.8-.78.8-2.07 0-2.86zM5.41 20L4 18.59l7.72-7.72 1.47 1.35L5.41 20z\"/>\n",
       "  </svg>\n",
       "      </button>\n",
       "      \n",
       "  <style>\n",
       "    .colab-df-container {\n",
       "      display:flex;\n",
       "      flex-wrap:wrap;\n",
       "      gap: 12px;\n",
       "    }\n",
       "\n",
       "    .colab-df-convert {\n",
       "      background-color: #E8F0FE;\n",
       "      border: none;\n",
       "      border-radius: 50%;\n",
       "      cursor: pointer;\n",
       "      display: none;\n",
       "      fill: #1967D2;\n",
       "      height: 32px;\n",
       "      padding: 0 0 0 0;\n",
       "      width: 32px;\n",
       "    }\n",
       "\n",
       "    .colab-df-convert:hover {\n",
       "      background-color: #E2EBFA;\n",
       "      box-shadow: 0px 1px 2px rgba(60, 64, 67, 0.3), 0px 1px 3px 1px rgba(60, 64, 67, 0.15);\n",
       "      fill: #174EA6;\n",
       "    }\n",
       "\n",
       "    [theme=dark] .colab-df-convert {\n",
       "      background-color: #3B4455;\n",
       "      fill: #D2E3FC;\n",
       "    }\n",
       "\n",
       "    [theme=dark] .colab-df-convert:hover {\n",
       "      background-color: #434B5C;\n",
       "      box-shadow: 0px 1px 3px 1px rgba(0, 0, 0, 0.15);\n",
       "      filter: drop-shadow(0px 1px 2px rgba(0, 0, 0, 0.3));\n",
       "      fill: #FFFFFF;\n",
       "    }\n",
       "  </style>\n",
       "\n",
       "      <script>\n",
       "        const buttonEl =\n",
       "          document.querySelector('#df-26b23e65-0234-4d04-979b-74fec905fb55 button.colab-df-convert');\n",
       "        buttonEl.style.display =\n",
       "          google.colab.kernel.accessAllowed ? 'block' : 'none';\n",
       "\n",
       "        async function convertToInteractive(key) {\n",
       "          const element = document.querySelector('#df-26b23e65-0234-4d04-979b-74fec905fb55');\n",
       "          const dataTable =\n",
       "            await google.colab.kernel.invokeFunction('convertToInteractive',\n",
       "                                                     [key], {});\n",
       "          if (!dataTable) return;\n",
       "\n",
       "          const docLinkHtml = 'Like what you see? Visit the ' +\n",
       "            '<a target=\"_blank\" href=https://colab.research.google.com/notebooks/data_table.ipynb>data table notebook</a>'\n",
       "            + ' to learn more about interactive tables.';\n",
       "          element.innerHTML = '';\n",
       "          dataTable['output_type'] = 'display_data';\n",
       "          await google.colab.output.renderOutput(dataTable, element);\n",
       "          const docLink = document.createElement('div');\n",
       "          docLink.innerHTML = docLinkHtml;\n",
       "          element.appendChild(docLink);\n",
       "        }\n",
       "      </script>\n",
       "    </div>\n",
       "  </div>\n",
       "  "
      ],
      "text/plain": [
       "       name  category\n",
       "0  4466.png         3\n",
       "1  4467.png         4\n",
       "2  4468.png         8\n",
       "3  4469.png        13\n",
       "4  4470.png         0"
      ]
     },
     "execution_count": 41,
     "metadata": {},
     "output_type": "execute_result"
    }
   ],
   "source": [
    "# Check the first 5 predictions\n",
    "submit.head()"
   ]
  },
  {
   "cell_type": "code",
   "execution_count": 42,
   "id": "yvzBEReJxHe8",
   "metadata": {
    "colab": {
     "base_uri": "https://localhost:8080/"
    },
    "id": "yvzBEReJxHe8",
    "outputId": "a3a3b25e-4639-4ade-e0a1-fdfbed0d10ab"
   },
   "outputs": [
    {
     "data": {
      "text/plain": [
       "(1914, 2)"
      ]
     },
     "execution_count": 42,
     "metadata": {},
     "output_type": "execute_result"
    }
   ],
   "source": [
    "# Verify the shape of submission dataframe\n",
    "submit.shape"
   ]
  },
  {
   "cell_type": "code",
   "execution_count": 43,
   "id": "mNjuSP-2xUMD",
   "metadata": {
    "id": "mNjuSP-2xUMD"
   },
   "outputs": [],
   "source": [
    "# Export submission dataframe to CSV\n",
    "submit.to_csv('Submission.csv', index = False)"
   ]
  }
 ],
 "metadata": {
  "accelerator": "GPU",
  "colab": {
   "collapsed_sections": [],
   "name": "Solution.ipynb",
   "provenance": []
  },
  "gpuClass": "standard",
  "kernelspec": {
   "display_name": "Python 3 (ipykernel)",
   "language": "python",
   "name": "python3"
  },
  "language_info": {
   "codemirror_mode": {
    "name": "ipython",
    "version": 3
   },
   "file_extension": ".py",
   "mimetype": "text/x-python",
   "name": "python",
   "nbconvert_exporter": "python",
   "pygments_lexer": "ipython3",
   "version": "3.9.7"
  }
 },
 "nbformat": 4,
 "nbformat_minor": 5
}
